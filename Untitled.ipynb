{
 "cells": [
  {
   "cell_type": "code",
   "execution_count": 1,
   "metadata": {},
   "outputs": [],
   "source": [
    "import requests\n",
    "import string\n",
    "import random"
   ]
  },
  {
   "cell_type": "code",
   "execution_count": 9,
   "metadata": {},
   "outputs": [
    {
     "name": "stdout",
     "output_type": "stream",
     "text": [
      "https://www.linkedin.com/oauth/v2/authorization?response_type=code&client_id=86jkhn6j841ac3&redirect_uri=http%3A%2F%2Flocalhost%3A8000&state=gglfiuxtdmonkdriopacplyh&scope=r_liteprofile%2Cr_emailaddress%2Cw_member_social\n"
     ]
    }
   ],
   "source": [
    "# Copy the client ID, secret, and redirect URI in the fields below\n",
    "CLIENT_ID    = '86jkhn6j841ac3'\n",
    "CLIENT_SECRET = 'dsSU4VbgjM6NHYmB'\n",
    "REDIRECT_URI = 'http://localhost:8000'\n",
    "\n",
    "# Generate a random string to protect against cross-site request forgery\n",
    "letters = string.ascii_lowercase\n",
    "CSRF_TOKEN = ''.join(random.choice(letters) for i in range(24))\n",
    "\n",
    "\n",
    "# Request authentication URL\n",
    "auth_params = {'response_type': 'code',\n",
    "               'client_id': CLIENT_ID,\n",
    "               'redirect_uri': REDIRECT_URI,\n",
    "               'state': CSRF_TOKEN,\n",
    "               'scope': 'r_liteprofile,r_emailaddress,w_member_social'}\n",
    "\n",
    "html = requests.get(\"https://www.linkedin.com/oauth/v2/authorization\",\n",
    "                    params = auth_params)\n",
    "\n",
    "# Print the link to the approval page\n",
    "print(html.url)\n",
    "\n",
    "# Click the link below to be taken to your redirect page."
   ]
  },
  {
   "cell_type": "code",
   "execution_count": null,
   "metadata": {},
   "outputs": [],
   "source": []
  }
 ],
 "metadata": {
  "kernelspec": {
   "display_name": "Python 3",
   "language": "python",
   "name": "python3"
  },
  "language_info": {
   "codemirror_mode": {
    "name": "ipython",
    "version": 3
   },
   "file_extension": ".py",
   "mimetype": "text/x-python",
   "name": "python",
   "nbconvert_exporter": "python",
   "pygments_lexer": "ipython3",
   "version": "3.9.1"
  }
 },
 "nbformat": 4,
 "nbformat_minor": 4
}
